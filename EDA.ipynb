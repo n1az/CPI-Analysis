{
 "cells": [
  {
   "cell_type": "code",
   "execution_count": 2,
   "id": "dc62ced2",
   "metadata": {},
   "outputs": [],
   "source": [
    "import pandas as pd\n",
    "# Load the data\n",
    "df = pd.read_csv('data/61111-0003_F.csv', sep=';', encoding='ISO-8859-1', skiprows=7,names=['consumption_code', 'consumption_label', '2019', '2020', '2021', '2022', '2023'])"
   ]
  },
  {
   "cell_type": "code",
   "execution_count": 3,
   "id": "eb2716ff",
   "metadata": {},
   "outputs": [
    {
     "data": {
      "text/html": [
       "<div>\n",
       "<style scoped>\n",
       "    .dataframe tbody tr th:only-of-type {\n",
       "        vertical-align: middle;\n",
       "    }\n",
       "\n",
       "    .dataframe tbody tr th {\n",
       "        vertical-align: top;\n",
       "    }\n",
       "\n",
       "    .dataframe thead th {\n",
       "        text-align: right;\n",
       "    }\n",
       "</style>\n",
       "<table border=\"1\" class=\"dataframe\">\n",
       "  <thead>\n",
       "    <tr style=\"text-align: right;\">\n",
       "      <th></th>\n",
       "      <th>consumption_code</th>\n",
       "      <th>consumption_label</th>\n",
       "      <th>2019</th>\n",
       "      <th>2020</th>\n",
       "      <th>2021</th>\n",
       "      <th>2022</th>\n",
       "      <th>2023</th>\n",
       "    </tr>\n",
       "  </thead>\n",
       "  <tbody>\n",
       "    <tr>\n",
       "      <th>0</th>\n",
       "      <td>CC13-01</td>\n",
       "      <td>Food and non-alcoholic beverages</td>\n",
       "      <td>97.9</td>\n",
       "      <td>100.0</td>\n",
       "      <td>103.1</td>\n",
       "      <td>116.0</td>\n",
       "      <td>130.3</td>\n",
       "    </tr>\n",
       "    <tr>\n",
       "      <th>1</th>\n",
       "      <td>CC13-011</td>\n",
       "      <td>Food</td>\n",
       "      <td>97.8</td>\n",
       "      <td>100.0</td>\n",
       "      <td>103.1</td>\n",
       "      <td>116.9</td>\n",
       "      <td>131.4</td>\n",
       "    </tr>\n",
       "    <tr>\n",
       "      <th>2</th>\n",
       "      <td>CC13-0111</td>\n",
       "      <td>Bread and cereals</td>\n",
       "      <td>99.2</td>\n",
       "      <td>100.0</td>\n",
       "      <td>103.3</td>\n",
       "      <td>116.8</td>\n",
       "      <td>135.9</td>\n",
       "    </tr>\n",
       "    <tr>\n",
       "      <th>3</th>\n",
       "      <td>CC13-01111</td>\n",
       "      <td>Rice, including rice preparations</td>\n",
       "      <td>98.7</td>\n",
       "      <td>100.0</td>\n",
       "      <td>102.6</td>\n",
       "      <td>115.7</td>\n",
       "      <td>135.5</td>\n",
       "    </tr>\n",
       "    <tr>\n",
       "      <th>4</th>\n",
       "      <td>CC13-01112</td>\n",
       "      <td>Flour and other cereals</td>\n",
       "      <td>100.2</td>\n",
       "      <td>100.0</td>\n",
       "      <td>104.1</td>\n",
       "      <td>134.2</td>\n",
       "      <td>157.6</td>\n",
       "    </tr>\n",
       "  </tbody>\n",
       "</table>\n",
       "</div>"
      ],
      "text/plain": [
       "  consumption_code                        consumption_label   2019   2020  \\\n",
       "0          CC13-01         Food and non-alcoholic beverages   97.9  100.0   \n",
       "1         CC13-011                                     Food   97.8  100.0   \n",
       "2        CC13-0111                        Bread and cereals   99.2  100.0   \n",
       "3       CC13-01111        Rice, including rice preparations   98.7  100.0   \n",
       "4       CC13-01112                  Flour and other cereals  100.2  100.0   \n",
       "\n",
       "    2021   2022   2023  \n",
       "0  103.1  116.0  130.3  \n",
       "1  103.1  116.9  131.4  \n",
       "2  103.3  116.8  135.9  \n",
       "3  102.6  115.7  135.5  \n",
       "4  104.1  134.2  157.6  "
      ]
     },
     "execution_count": 3,
     "metadata": {},
     "output_type": "execute_result"
    }
   ],
   "source": [
    "df.head()"
   ]
  },
  {
   "cell_type": "code",
   "execution_count": 4,
   "id": "e870c5d4",
   "metadata": {},
   "outputs": [
    {
     "name": "stdout",
     "output_type": "stream",
     "text": [
      "<class 'pandas.core.frame.DataFrame'>\n",
      "RangeIndex: 444 entries, 0 to 443\n",
      "Data columns (total 7 columns):\n",
      " #   Column             Non-Null Count  Dtype \n",
      "---  ------             --------------  ----- \n",
      " 0   consumption_code   444 non-null    object\n",
      " 1   consumption_label  441 non-null    object\n",
      " 2   2019               441 non-null    object\n",
      " 3   2020               441 non-null    object\n",
      " 4   2021               441 non-null    object\n",
      " 5   2022               441 non-null    object\n",
      " 6   2023               441 non-null    object\n",
      "dtypes: object(7)\n",
      "memory usage: 24.4+ KB\n"
     ]
    }
   ],
   "source": [
    "df.info()"
   ]
  },
  {
   "cell_type": "code",
   "execution_count": null,
   "id": "2d4f41f9",
   "metadata": {},
   "outputs": [],
   "source": []
  }
 ],
 "metadata": {
  "kernelspec": {
   "display_name": "Python 3 (ipykernel)",
   "language": "python",
   "name": "python3"
  },
  "language_info": {
   "codemirror_mode": {
    "name": "ipython",
    "version": 3
   },
   "file_extension": ".py",
   "mimetype": "text/x-python",
   "name": "python",
   "nbconvert_exporter": "python",
   "pygments_lexer": "ipython3",
   "version": "3.10.9"
  }
 },
 "nbformat": 4,
 "nbformat_minor": 5
}
